{
 "cells": [
  {
   "cell_type": "code",
   "execution_count": 1,
   "metadata": {},
   "outputs": [
    {
     "name": "stderr",
     "output_type": "stream",
     "text": [
      "/Users/sahilsodhi/anaconda3/lib/python3.6/importlib/_bootstrap.py:219: RuntimeWarning: numpy.dtype size changed, may indicate binary incompatibility. Expected 96, got 88\n",
      "  return f(*args, **kwds)\n",
      "/Users/sahilsodhi/anaconda3/lib/python3.6/site-packages/h5py/__init__.py:36: FutureWarning: Conversion of the second argument of issubdtype from `float` to `np.floating` is deprecated. In future, it will be treated as `np.float64 == np.dtype(float).type`.\n",
      "  from ._conv import register_converters as _register_converters\n",
      "/Users/sahilsodhi/anaconda3/lib/python3.6/importlib/_bootstrap.py:219: RuntimeWarning: numpy.dtype size changed, may indicate binary incompatibility. Expected 96, got 88\n",
      "  return f(*args, **kwds)\n",
      "/Users/sahilsodhi/anaconda3/lib/python3.6/importlib/_bootstrap.py:219: RuntimeWarning: numpy.dtype size changed, may indicate binary incompatibility. Expected 96, got 88\n",
      "  return f(*args, **kwds)\n",
      "Using TensorFlow backend.\n"
     ]
    }
   ],
   "source": [
    "import tensorflow as tf\n",
    "import matplotlib.pyplot as plt\n",
    "from keras.models import Sequential\n",
    "from keras.layers import Convolution2D\n",
    "from keras.layers import MaxPooling2D\n",
    "from keras.layers import Flatten\n",
    "from keras.layers import Dense\n",
    "from keras.layers import Dropout\n",
    "from keras.utils import to_categorical"
   ]
  },
  {
   "cell_type": "code",
   "execution_count": 2,
   "metadata": {},
   "outputs": [
    {
     "name": "stdout",
     "output_type": "stream",
     "text": [
      "x_train shape: (60000, 28, 28) y_train shape: (60000,)\n",
      "x_test shape: (10000, 28, 28) y_test shape: (10000,)\n"
     ]
    }
   ],
   "source": [
    "# Load the fashion-mnist train data and test data\n",
    "(x_train, y_train), (x_test, y_test) = tf.keras.datasets.fashion_mnist.load_data()\n",
    "print(\"x_train shape:\", x_train.shape, \"y_train shape:\", y_train.shape)\n",
    "print(\"x_test shape:\", x_test.shape, \"y_test shape:\", y_test.shape)"
   ]
  },
  {
   "cell_type": "code",
   "execution_count": 3,
   "metadata": {},
   "outputs": [
    {
     "data": {
      "text/plain": [
       "<matplotlib.image.AxesImage at 0xb2902be48>"
      ]
     },
     "execution_count": 3,
     "metadata": {},
     "output_type": "execute_result"
    },
    {
     "data": {
      "image/png": "[encoded data removed]",
      "text/plain": [
       "<Figure size 432x288 with 1 Axes>"
      ]
     },
     "metadata": {
      "needs_background": "light"
     },
     "output_type": "display_data"
    }
   ],
   "source": [
    "plt.imshow(x_train[0])"
   ]
  },
  {
   "cell_type": "code",
   "execution_count": 5,
   "metadata": {},
   "outputs": [],
   "source": [
    "fashion_mnist_labels = [\"T-shirt/top\",  # index 0\n",
    "                        \"Trouser\",      # index 1\n",
    "                        \"Pullover\",     # index 2 \n",
    "                        \"Dress\",        # index 3 \n",
    "                        \"Coat\",         # index 4\n",
    "                        \"Sandal\",       # index 5\n",
    "                        \"Shirt\",        # index 6 \n",
    "                        \"Sneaker\",      # index 7 \n",
    "                        \"Bag\",          # index 8 \n",
    "                        \"Ankle boot\"]   # index 9"
   ]
  },
  {
   "cell_type": "code",
   "execution_count": 6,
   "metadata": {},
   "outputs": [
    {
     "name": "stdout",
     "output_type": "stream",
     "text": [
      "y = 0 T-shirt/top\n"
     ]
    },
    {
     "data": {
      "image/png": "[encoded data removed]",
      "text/plain": [
       "<Figure size 432x288 with 1 Axes>"
      ]
     },
     "metadata": {
      "needs_background": "light"
     },
     "output_type": "display_data"
    }
   ],
   "source": [
    "# Image index, you can pick any number between 0 and 59,999\n",
    "img_index = 10\n",
    "# y_train contains the lables, ranging from 0 to 9\n",
    "label_index = y_train[img_index]\n",
    "# Print the label, for example 2 Pullover\n",
    "print (\"y = \" + str(label_index) + \" \" +(fashion_mnist_labels[label_index]))\n",
    "# # Show one of the images from the training dataset\n",
    "plt.imshow(x_train[img_index])\n",
    "\n",
    "#Normalize data dimensions so that the images are of same scale between 0 and 1.\n",
    "x_train = x_train.astype('float32') / 255\n",
    "x_test = x_test.astype('float32') / 255"
   ]
  },
  {
   "cell_type": "code",
   "execution_count": 7,
   "metadata": {},
   "outputs": [
    {
     "name": "stdout",
     "output_type": "stream",
     "text": [
      "x_train shape: (55000, 28, 28, 1) y_train shape: (55000, 10)\n",
      "55000 train set\n",
      "5000 validation set\n",
      "10000 test set\n"
     ]
    }
   ],
   "source": [
    "# Further break training data into train / validation sets (# put 5000 into validation set and keep remaining 55,000 for train)\n",
    "(x_train, x_valid) = x_train[5000:], x_train[:5000] \n",
    "(y_train, y_valid) = y_train[5000:], y_train[:5000]\n",
    "\n",
    "# Reshape input data from (28, 28) to (28, 28, 1)\n",
    "w, h = 28, 28\n",
    "x_train = x_train.reshape(x_train.shape[0], w, h, 1)\n",
    "x_valid = x_valid.reshape(x_valid.shape[0], w, h, 1)\n",
    "x_test = x_test.reshape(x_test.shape[0], w, h, 1)\n",
    "\n",
    "# One-hot encode the labels\n",
    "y_train = to_categorical(y_train, 10)\n",
    "y_valid = to_categorical(y_valid, 10)\n",
    "y_test = to_categorical(y_test, 10)\n",
    "\n",
    "# Print training set shape\n",
    "print(\"x_train shape:\", x_train.shape, \"y_train shape:\", y_train.shape)\n",
    "# Print the number of training, validation, and test datasets\n",
    "print(x_train.shape[0], 'train set')\n",
    "print(x_valid.shape[0], 'validation set')\n",
    "print(x_test.shape[0], 'test set')"
   ]
  },
  {
   "cell_type": "code",
   "execution_count": 8,
   "metadata": {},
   "outputs": [
    {
     "name": "stdout",
     "output_type": "stream",
     "text": [
      "_________________________________________________________________\n",
      "Layer (type)                 Output Shape              Param #   \n",
      "=================================================================\n",
      "conv2d_1 (Conv2D)            (None, 28, 28, 64)        320       \n",
      "_________________________________________________________________\n",
      "max_pooling2d_1 (MaxPooling2 (None, 14, 14, 64)        0         \n",
      "_________________________________________________________________\n",
      "dropout_1 (Dropout)          (None, 14, 14, 64)        0         \n",
      "_________________________________________________________________\n",
      "conv2d_2 (Conv2D)            (None, 14, 14, 32)        8224      \n",
      "_________________________________________________________________\n",
      "max_pooling2d_2 (MaxPooling2 (None, 7, 7, 32)          0         \n",
      "_________________________________________________________________\n",
      "dropout_2 (Dropout)          (None, 7, 7, 32)          0         \n",
      "_________________________________________________________________\n",
      "flatten_1 (Flatten)          (None, 1568)              0         \n",
      "_________________________________________________________________\n",
      "dense_1 (Dense)              (None, 256)               401664    \n",
      "_________________________________________________________________\n",
      "dropout_3 (Dropout)          (None, 256)               0         \n",
      "_________________________________________________________________\n",
      "dense_2 (Dense)              (None, 10)                2570      \n",
      "=================================================================\n",
      "Total params: 412,778\n",
      "Trainable params: 412,778\n",
      "Non-trainable params: 0\n",
      "_________________________________________________________________\n"
     ]
    }
   ],
   "source": [
    "#Initializing the CNN model.\n",
    "CNNmodel = Sequential()\n",
    "\n",
    "# Adding Convolution layer 1.\n",
    "CNNmodel.add(Convolution2D(filters=64, kernel_size=2, padding='same', activation='relu', input_shape=(28,28,1))) \n",
    "# Adding MaxPooling layer 2.\n",
    "CNNmodel.add(MaxPooling2D(pool_size=2))\n",
    "# Adding a dropout layer 3 - This layer “drops out” a random set of activations in that layer by setting them to zero.\n",
    "CNNmodel.add(Dropout(0.3))\n",
    "# Adding Convolution layer 4.\n",
    "CNNmodel.add(Convolution2D(filters=32, kernel_size=2, padding='same', activation='relu'))\n",
    "# Adding MaxPooling layer 5.\n",
    "CNNmodel.add(MaxPooling2D(pool_size=2))\n",
    "# Adding a dropout layer 6\n",
    "CNNmodel.add(Dropout(0.3))\n",
    "# Flattening... put all pooled feature maps to a vector. Input to ANN.\n",
    "CNNmodel.add(Flatten())\n",
    "# Adding hidden layer 7.\n",
    "CNNmodel.add(Dense(256, activation='relu'))\n",
    "# Adding a dropout layer 8.\n",
    "CNNmodel.add(Dropout(0.5))\n",
    "# Adding hidden layer 9.\n",
    "CNNmodel.add(Dense(10, activation='softmax'))\n",
    "\n",
    "# Take a look at the model summary\n",
    "CNNmodel.summary()"
   ]
  },
  {
   "cell_type": "code",
   "execution_count": 9,
   "metadata": {},
   "outputs": [
    {
     "name": "stdout",
     "output_type": "stream",
     "text": [
      "Train on 55000 samples, validate on 5000 samples\n",
      "Epoch 1/20\n",
      "55000/55000 [==============================] - 52s 949us/step - loss: 0.6042 - acc: 0.7755 - val_loss: 0.3659 - val_acc: 0.8740\n",
      "Epoch 2/20\n",
      "55000/55000 [==============================] - 49s 894us/step - loss: 0.4137 - acc: 0.8517 - val_loss: 0.3166 - val_acc: 0.8900\n",
      "Epoch 3/20\n",
      "55000/55000 [==============================] - 50s 901us/step - loss: 0.3687 - acc: 0.8664 - val_loss: 0.2886 - val_acc: 0.8966\n",
      "Epoch 4/20\n",
      "55000/55000 [==============================] - 53s 963us/step - loss: 0.3437 - acc: 0.8745 - val_loss: 0.2780 - val_acc: 0.8988\n",
      "Epoch 5/20\n",
      "55000/55000 [==============================] - 56s 1ms/step - loss: 0.3222 - acc: 0.8829 - val_loss: 0.2610 - val_acc: 0.9034\n",
      "Epoch 6/20\n",
      "55000/55000 [==============================] - 57s 1ms/step - loss: 0.3079 - acc: 0.8845 - val_loss: 0.2530 - val_acc: 0.9052\n",
      "Epoch 7/20\n",
      "55000/55000 [==============================] - 52s 944us/step - loss: 0.2950 - acc: 0.8913 - val_loss: 0.2589 - val_acc: 0.9032\n",
      "Epoch 8/20\n",
      "55000/55000 [==============================] - 58s 1ms/step - loss: 0.2819 - acc: 0.8965 - val_loss: 0.2321 - val_acc: 0.9152\n",
      "Epoch 9/20\n",
      "55000/55000 [==============================] - 71s 1ms/step - loss: 0.2742 - acc: 0.8995 - val_loss: 0.2248 - val_acc: 0.9174\n",
      "Epoch 10/20\n",
      "55000/55000 [==============================] - 63s 1ms/step - loss: 0.2700 - acc: 0.9013 - val_loss: 0.2230 - val_acc: 0.9182\n",
      "Epoch 11/20\n",
      "55000/55000 [==============================] - 59s 1ms/step - loss: 0.2606 - acc: 0.9031 - val_loss: 0.2157 - val_acc: 0.9190\n",
      "Epoch 12/20\n",
      "55000/55000 [==============================] - 62s 1ms/step - loss: 0.2527 - acc: 0.9060 - val_loss: 0.2154 - val_acc: 0.9198\n",
      "Epoch 13/20\n",
      "55000/55000 [==============================] - 55s 996us/step - loss: 0.2467 - acc: 0.9083 - val_loss: 0.2078 - val_acc: 0.9214\n",
      "Epoch 14/20\n",
      "55000/55000 [==============================] - 57s 1ms/step - loss: 0.2448 - acc: 0.9098 - val_loss: 0.2085 - val_acc: 0.9220\n",
      "Epoch 15/20\n",
      "55000/55000 [==============================] - 56s 1ms/step - loss: 0.2366 - acc: 0.9109 - val_loss: 0.2074 - val_acc: 0.9254\n",
      "Epoch 16/20\n",
      "55000/55000 [==============================] - 51s 918us/step - loss: 0.2336 - acc: 0.9136 - val_loss: 0.2159 - val_acc: 0.9180\n",
      "Epoch 17/20\n",
      "55000/55000 [==============================] - 50s 914us/step - loss: 0.2318 - acc: 0.9143 - val_loss: 0.2106 - val_acc: 0.9236\n",
      "Epoch 18/20\n",
      "55000/55000 [==============================] - 54s 981us/step - loss: 0.2268 - acc: 0.9161 - val_loss: 0.2089 - val_acc: 0.9200\n",
      "Epoch 19/20\n",
      "55000/55000 [==============================] - 50s 909us/step - loss: 0.2254 - acc: 0.9155 - val_loss: 0.2084 - val_acc: 0.9224\n",
      "Epoch 20/20\n",
      "55000/55000 [==============================] - 55s 1ms/step - loss: 0.2204 - acc: 0.9179 - val_loss: 0.2137 - val_acc: 0.9232\n",
      "\n",
      " Test accuracy: 0.9137\n"
     ]
    }
   ],
   "source": [
    "# Compiling the CNN\n",
    "CNNmodel.compile(loss='categorical_crossentropy',\n",
    "             optimizer='adam',\n",
    "             metrics=['accuracy'])\n",
    "\n",
    "# Fitting the CNN to the images\n",
    "result = CNNmodel.fit(x_train,\n",
    "         y_train,\n",
    "         batch_size=64,\n",
    "         epochs=20,\n",
    "         validation_data=(x_valid, y_valid))\n",
    "\n",
    "# Evaluate the model on test set\n",
    "score = CNNmodel.evaluate(x_test, y_test, verbose=0)\n",
    "\n",
    "# Print test accuracy\n",
    "print('\\n', 'Test accuracy:', score[1])\n",
    "\n",
    "y_hat = CNNmodel.predict(x_test)"
   ]
  },
  {
   "cell_type": "code",
   "execution_count": 10,
   "metadata": {},
   "outputs": [
    {
     "data": {
      "image/png": "[encoded data removed]",
      "text/plain": [
       "<Figure size 432x288 with 1 Axes>"
      ]
     },
     "metadata": {
      "needs_background": "light"
     },
     "output_type": "display_data"
    },
    {
     "data": {
      "image/png": "[encoded data removed]",
      "text/plain": [
       "<Figure size 432x288 with 1 Axes>"
      ]
     },
     "metadata": {
      "needs_background": "light"
     },
     "output_type": "display_data"
    }
   ],
   "source": [
    "# Plotting accuracy, Accuracy (Train and Test) vs Epochs\n",
    "plt.plot(result.history['acc'])\n",
    "plt.plot(result.history['val_acc'])\n",
    "plt.xlabel('Epochs')\n",
    "plt.ylabel('Accuracy')\n",
    "plt.title('Accuracy (Train and Test) vs Epochs')\n",
    "plt.legend(['Training', 'Testing'], loc='upper left')\n",
    "plt.grid()\n",
    "plt.show()\n",
    "\n",
    "# Plotting loss Loss (Train and Test) vs Epochs\n",
    "plt.plot(result.history['loss'])\n",
    "plt.plot(result.history['val_loss'])\n",
    "plt.xlabel('Epochs')\n",
    "plt.ylabel('Loss')\n",
    "plt.title('Loss (Train and Test) vs Epochs')\n",
    "plt.legend(['Training', 'Testing'], loc='upper left')\n",
    "plt.grid()\n",
    "plt.show()"
   ]
  },
  {
   "cell_type": "code",
   "execution_count": null,
   "metadata": {},
   "outputs": [],
   "source": []
  }
 ],
 "metadata": {
  "kernelspec": {
   "display_name": "Python 3",
   "language": "python",
   "name": "python3"
  },
  "language_info": {
   "codemirror_mode": {
    "name": "ipython",
    "version": 3
   },
   "file_extension": ".py",
   "mimetype": "text/x-python",
   "name": "python",
   "nbconvert_exporter": "python",
   "pygments_lexer": "ipython3",
   "version": "3.6.7"
  }
 },
 "nbformat": 4,
 "nbformat_minor": 2
}
